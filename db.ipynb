{
 "cells": [
  {
   "cell_type": "code",
   "execution_count": null,
   "id": "ecd384ed",
   "metadata": {},
   "outputs": [],
   "source": [
    "import psycopg2\n",
    "import pandas as pd"
   ]
  },
  {
   "cell_type": "code",
   "execution_count": null,
   "id": "41b8f8a6",
   "metadata": {},
   "outputs": [],
   "source": [
    "#Conectando ao banco de dados\n",
    "conn = psycopg2.connect(\n",
    "    host = \"localhost\",\n",
    "    database = \"postgres\",\n",
    "    user = \"postgres\",\n",
    "    password = \"12345\"\n",
    ")"
   ]
  },
  {
   "cell_type": "code",
   "execution_count": null,
   "id": "579a5b08",
   "metadata": {},
   "outputs": [],
   "source": [
    "# Criando um cursor para executar comandos SQL\n",
    "cursor = conn.cursor()"
   ]
  },
  {
   "cell_type": "code",
   "execution_count": null,
   "id": "9661c246",
   "metadata": {},
   "outputs": [],
   "source": [
    "# Executando uma consulta SQL\n",
    "cursor.execute(\"SELECT * FROM tool_store.pessoa\")"
   ]
  },
  {
   "cell_type": "code",
   "execution_count": null,
   "id": "b130d25a",
   "metadata": {},
   "outputs": [],
   "source": [
    "# Criando a variável result para armazenar os resultados da consulta SQL com o método fetchall()\n",
    "result = cursor.fetchall()"
   ]
  },
  {
   "cell_type": "code",
   "execution_count": null,
   "id": "79f948ee",
   "metadata": {},
   "outputs": [],
   "source": [
    "df = pd.DataFrame(result, columns=['id', 'nome', 'matricula'])\n"
   ]
  },
  {
   "cell_type": "code",
   "execution_count": null,
   "id": "5924b9c0",
   "metadata": {},
   "outputs": [],
   "source": [
    "print(df.head())"
   ]
  },
  {
   "cell_type": "code",
   "execution_count": null,
   "id": "2bdb3913",
   "metadata": {},
   "outputs": [],
   "source": [
    "print(df.tail())"
   ]
  },
  {
   "cell_type": "code",
   "execution_count": null,
   "id": "29d18b1c",
   "metadata": {},
   "outputs": [],
   "source": [
    "print(df)"
   ]
  },
  {
   "cell_type": "code",
   "execution_count": null,
   "id": "fc1cef7d",
   "metadata": {},
   "outputs": [],
   "source": [
    "print(df.describe())"
   ]
  },
  {
   "cell_type": "code",
   "execution_count": 150,
   "id": "30814e34",
   "metadata": {},
   "outputs": [
    {
     "name": "stdout",
     "output_type": "stream",
     "text": [
      "Nome atualizado para Isadora Freitas para a matrícula 32087151\n",
      "Nome atualizado para Bianca Farias para a matrícula 32424495\n",
      "Nome atualizado para Isadora Almeida para a matrícula 32649305\n",
      "Nome atualizado para Marina Martins para a matrícula 32600936\n",
      "Nome atualizado para Lavínia da Cunha para a matrícula 32471271\n",
      "Nome atualizado para Sr. Joaquim Pinto para a matrícula 32024214\n",
      "Nome atualizado para João Vitor Santos para a matrícula 32320007\n",
      "Nome atualizado para Bruno Caldeira para a matrícula 32570568\n",
      "Nome atualizado para Carolina Duarte para a matrícula 32169746\n",
      "Nome atualizado para Isabella da Cunha para a matrícula 32241756\n",
      "Nome atualizado para Alexandre Gonçalves para a matrícula 32471720\n",
      "Nome atualizado para Pedro Freitas para a matrícula 32872314\n",
      "Nome atualizado para Sr. Luiz Henrique Fernandes para a matrícula 32830185\n",
      "Nome atualizado para Clarice Mendes para a matrícula 32676424\n",
      "Nome atualizado para Francisco Nunes para a matrícula 32042993\n",
      "Nome atualizado para Levi da Cruz para a matrícula 32493861\n",
      "Nome atualizado para Marcos Vinicius Farias para a matrícula 32798616\n",
      "Nome atualizado para Srta. Maria Alice Silveira para a matrícula 32486068\n",
      "Nome atualizado para Sra. Sophie Nogueira para a matrícula 32042815\n",
      "Nome atualizado para Lorenzo Cunha para a matrícula 32609530\n",
      "Nome atualizado para Ana Novaes para a matrícula 32331180\n",
      "Nome atualizado para Isaac da Mata para a matrícula 32233686\n",
      "Nome atualizado para Nathan Martins para a matrícula 32636760\n",
      "Nome atualizado para Olivia Santos para a matrícula 32112983\n",
      "Nome atualizado para Manuela Caldeira para a matrícula 32752330\n",
      "Nome atualizado para Sr. Theo Cardoso para a matrícula 32923643\n",
      "Nome atualizado para Dra. Sabrina Vieira para a matrícula 32127885\n",
      "Nome atualizado para Laís Cardoso para a matrícula 32536880\n",
      "Nome atualizado para Clarice Ribeiro para a matrícula 32662424\n",
      "Nome atualizado para Alexia Pinto para a matrícula 32575442\n",
      "Nome atualizado para Otávio Cardoso para a matrícula 32856514\n",
      "Nome atualizado para Pedro Lucas Alves para a matrícula 32628741\n",
      "Nome atualizado para Leandro Melo para a matrícula 32627913\n",
      "Nome atualizado para Vitória da Mota para a matrícula 32274878\n",
      "Nome atualizado para Lavínia Araújo para a matrícula 32356559\n",
      "Nome atualizado para Sr. Luiz Felipe Ribeiro para a matrícula 32015246\n",
      "Nome atualizado para Luiz Felipe Cardoso para a matrícula 32540590\n",
      "Nome atualizado para Augusto da Conceição para a matrícula 32268136\n",
      "Nome atualizado para Esther Nascimento para a matrícula 32031981\n",
      "Nome atualizado para Marcos Vinicius Lopes para a matrícula 32226229\n",
      "Nome atualizado para Dr. Matheus Fernandes para a matrícula 32121393\n",
      "Nome atualizado para Dr. Vitor Hugo Monteiro para a matrícula 32186626\n",
      "Nome atualizado para Natália da Conceição para a matrícula 32432834\n",
      "Nome atualizado para Renan das Neves para a matrícula 32522346\n",
      "Nome atualizado para João Gabriel Peixoto para a matrícula 32496962\n",
      "Nome atualizado para Sra. Larissa Fernandes para a matrícula 32889715\n",
      "Nome atualizado para Luiz Fernando Peixoto para a matrícula 32411964\n",
      "Nome atualizado para Maitê Moura para a matrícula 32288527\n",
      "Nome atualizado para Pedro Alves para a matrícula 32390062\n",
      "Nome atualizado para Emilly Gonçalves para a matrícula 32762642\n",
      "Nome atualizado para João Felipe Moraes para a matrícula 32576142\n",
      "Nome atualizado para Júlia Ribeiro para a matrícula 32847405\n",
      "Nome atualizado para Letícia Duarte para a matrícula 32666181\n",
      "Nome atualizado para Maria Costa para a matrícula 32615706\n",
      "Nome atualizado para Vitor Gabriel Porto para a matrícula 32586175\n",
      "Nome atualizado para Ana Julia da Costa para a matrícula 32064506\n",
      "Nome atualizado para Marcelo da Mata para a matrícula 32627131\n",
      "Nome atualizado para João Gabriel Teixeira para a matrícula 32994061\n",
      "Nome atualizado para João Miguel Ribeiro para a matrícula 32154917\n",
      "Nome atualizado para Breno Melo para a matrícula 32607887\n",
      "Nome atualizado para Leonardo Costela para a matrícula 32156374\n",
      "Nome atualizado para Sarah Cardoso para a matrícula 32768435\n",
      "Nome atualizado para Marcela da Conceição para a matrícula 32509370\n",
      "Nome atualizado para Diego Melo para a matrícula 32877111\n",
      "Nome atualizado para Kamilly Rodrigues para a matrícula 32615862\n",
      "Nome atualizado para Natália Viana para a matrícula 32457955\n",
      "Nome atualizado para Sr. Erick da Mota para a matrícula 32115006\n",
      "Nome atualizado para Pietro Nogueira para a matrícula 32637163\n",
      "Nome atualizado para Raul Campos para a matrícula 32374827\n",
      "Nome atualizado para Caroline Barros para a matrícula 32318359\n",
      "Nome atualizado para Heloísa Costa para a matrícula 32277009\n",
      "Nome atualizado para Lucas Fogaça para a matrícula 32584511\n",
      "Nome atualizado para Vinicius Pires para a matrícula 32545100\n",
      "Nome atualizado para João Felipe da Cunha para a matrícula 32801175\n",
      "Nome atualizado para Mariane Alves para a matrícula 32120987\n",
      "Nome atualizado para Carolina Martins para a matrícula 32549109\n",
      "Nome atualizado para Guilherme Barros para a matrícula 32052170\n",
      "Nome atualizado para Leandro Pinto para a matrícula 32262500\n",
      "Nome atualizado para Cauê Castro para a matrícula 32917344\n",
      "Nome atualizado para Ian da Paz para a matrícula 32285777\n",
      "Nome atualizado para Luigi Viana para a matrícula 32897320\n",
      "Nome atualizado para Heitor Aragão para a matrícula 32059258\n",
      "Nome atualizado para Ana Júlia Ribeiro para a matrícula 32810357\n",
      "Nome atualizado para Maria Vitória Ramos para a matrícula 32253895\n",
      "Nome atualizado para Carolina Vieira para a matrícula 32350787\n",
      "Nome atualizado para Dr. Yuri Mendes para a matrícula 32234895\n",
      "Nome atualizado para Yago Duarte para a matrícula 32962617\n",
      "Nome atualizado para Sra. Mariane Almeida para a matrícula 32348205\n",
      "Nome atualizado para Calebe Ferreira para a matrícula 32483630\n",
      "Nome atualizado para Sabrina Rezende para a matrícula 32829352\n",
      "Nome atualizado para Daniel Cunha para a matrícula 32289106\n",
      "Nome atualizado para Sr. Gustavo Duarte para a matrícula 32424131\n",
      "Nome atualizado para Sra. Ana Sophia Ramos para a matrícula 32957778\n",
      "Nome atualizado para Luna Porto para a matrícula 32938158\n",
      "Nome atualizado para Mariane Barros para a matrícula 32265251\n",
      "Nome atualizado para Sophia das Neves para a matrícula 32962286\n",
      "Nome atualizado para Fernando Novaes para a matrícula 32890521\n",
      "Nome atualizado para Zoro para a matrícula 0101\n",
      "Nome atualizado para Luffy para a matrícula 32000999\n",
      "Nome atualizado para Barba Negra para a matrícula 32000999\n",
      "Nome atualizado para Ana Novaes para a matrícula 32331180\n",
      "Nome atualizado para Zabuza para a matrícula 32002222\n",
      "Nome atualizado para kaka para a matrícula 326666666\n",
      "Nome atualizado para lucas para a matrícula 325555555\n",
      "Nome atualizado para natalia para a matrícula 32555555\n",
      "Nome atualizado para Chico para a matrícula 999999999\n",
      "Nome atualizado para vava para a matrícula 000000000\n",
      "Nome atualizado para Arlong para a matrícula 32000854\n",
      "Nome atualizado para cachorro para a matrícula 1111111111111\n"
     ]
    }
   ],
   "source": [
    "# Percorrer o DataFrame\n",
    "for matricula, row in df.iterrows():\n",
    "    matricula = row['matricula']\n",
    "    nome_pessoa = row['nome']\n",
    "\n",
    "    # Verifica se o id_pessoa já existe no banco de dados\n",
    "    cursor.execute('SELECT matricula FROM tool_store.pessoa WHERE matricula = %s', (matricula,))\n",
    "    result = cursor.fetchone()\n",
    "\n",
    "    if result:\n",
    "        # Realiza a atualização do nome da pessoa\n",
    "        cursor.execute('UPDATE tool_store.pessoa SET nome = %s WHERE matricula = %s', (nome_pessoa, matricula))\n",
    "        conn.commit()\n",
    "        print(f\"Nome atualizado para {nome_pessoa} para a matrícula {matricula}\")"
   ]
  }
 ],
 "metadata": {
  "kernelspec": {
   "display_name": "Python 3",
   "language": "python",
   "name": "python3"
  },
  "language_info": {
   "codemirror_mode": {
    "name": "ipython",
    "version": 3
   },
   "file_extension": ".py",
   "mimetype": "text/x-python",
   "name": "python",
   "nbconvert_exporter": "python",
   "pygments_lexer": "ipython3",
   "version": "3.11.13"
  }
 },
 "nbformat": 4,
 "nbformat_minor": 5
}
