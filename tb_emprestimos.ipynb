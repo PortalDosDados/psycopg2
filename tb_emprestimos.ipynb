{
 "cells": [
  {
   "cell_type": "code",
   "execution_count": null,
   "id": "ecd384ed",
   "metadata": {},
   "outputs": [],
   "source": [
    "import psycopg2\n",
    "import pandas as pd"
   ]
  },
  {
   "cell_type": "code",
   "execution_count": null,
   "id": "41b8f8a6",
   "metadata": {},
   "outputs": [],
   "source": [
    "#Conectando ao banco de dados\n",
    "conn = psycopg2.connect(\n",
    "    host = \"localhost\",\n",
    "    database = \"postgres\",\n",
    "    user = \"postgres\",\n",
    "    password = \"12345\"\n",
    ")"
   ]
  },
  {
   "cell_type": "code",
   "execution_count": null,
   "id": "579a5b08",
   "metadata": {},
   "outputs": [],
   "source": [
    "# Criando um cursor para executar comandos SQL\n",
    "cursor = conn.cursor()"
   ]
  },
  {
   "cell_type": "code",
   "execution_count": null,
   "id": "9661c246",
   "metadata": {},
   "outputs": [],
   "source": [
    "# Executando uma consulta SQL\n",
    "cursor.execute(\"SELECT * FROM tool_store.emprestimos\")"
   ]
  },
  {
   "cell_type": "code",
   "execution_count": null,
   "id": "b130d25a",
   "metadata": {},
   "outputs": [],
   "source": [
    "# Criando a variável result para armazenar os resultados da consulta SQL com o método fetchall()\n",
    "result = cursor.fetchall()"
   ]
  },
  {
   "cell_type": "code",
   "execution_count": null,
   "id": "79f948ee",
   "metadata": {},
   "outputs": [],
   "source": [
    "df = pd.DataFrame(result, columns=['id', 'id_pessoa', 'id_ferramenta', 'quantidade', 'data_emprestimo', 'data_devolucao'])\n"
   ]
  },
  {
   "cell_type": "code",
   "execution_count": null,
   "id": "5924b9c0",
   "metadata": {},
   "outputs": [],
   "source": [
    "print(df.head())"
   ]
  },
  {
   "cell_type": "code",
   "execution_count": null,
   "id": "2bdb3913",
   "metadata": {},
   "outputs": [],
   "source": [
    "print(df.tail())"
   ]
  },
  {
   "cell_type": "code",
   "execution_count": null,
   "id": "29d18b1c",
   "metadata": {},
   "outputs": [],
   "source": [
    "print(df)"
   ]
  },
  {
   "cell_type": "code",
   "execution_count": null,
   "id": "fc1cef7d",
   "metadata": {},
   "outputs": [],
   "source": [
    "print(df.describe())"
   ]
  },
  {
   "cell_type": "code",
   "execution_count": null,
   "id": "30814e34",
   "metadata": {},
   "outputs": [],
   "source": [
    "# Percorrer o DataFrame\n",
    "for matricula, row in df.iterrows():\n",
    "    matricula = row['matricula']\n",
    "    nome_pessoa = row['nome']\n",
    "\n",
    "    # Verifica se o id_pessoa já existe no banco de dados\n",
    "    cursor.execute('SELECT matricula FROM tool_store.pessoa WHERE matricula = %s', (matricula,))\n",
    "    result = cursor.fetchone()\n",
    "\n",
    "    if result:\n",
    "        # Realiza a atualização do nome da pessoa\n",
    "        cursor.execute('UPDATE tool_store.pessoa SET nome = %s WHERE matricula = %s', (nome_pessoa, matricula))\n",
    "        conn.commit()\n",
    "        print(f\"Nome atualizado para {nome_pessoa} para a matrícula {matricula}\")\n",
    "    \n",
    "    else:\n",
    "            # Insere um novo registro se a matrícula não existir\n",
    "            cursor.execute('INSERT INTO tool_store.pessoa (nome, matricula) VALUES (%s, %s)', (nome_pessoa, matricula))\n",
    "            conn.commit()\n",
    "            print(f\"Registro inserido: {nome_pessoa} com matrícula {matricula}\")"
   ]
  }
 ],
 "metadata": {
  "kernelspec": {
   "display_name": "Python 3",
   "language": "python",
   "name": "python3"
  },
  "language_info": {
   "codemirror_mode": {
    "name": "ipython",
    "version": 3
   },
   "file_extension": ".py",
   "mimetype": "text/x-python",
   "name": "python",
   "nbconvert_exporter": "python",
   "pygments_lexer": "ipython3",
   "version": "3.11.13"
  }
 },
 "nbformat": 4,
 "nbformat_minor": 5
}
