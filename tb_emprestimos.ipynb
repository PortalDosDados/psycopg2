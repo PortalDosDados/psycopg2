{
 "cells": [
  {
   "cell_type": "code",
   "execution_count": 1,
   "id": "ecd384ed",
   "metadata": {},
   "outputs": [],
   "source": [
    "import psycopg2\n",
    "import pandas as pd"
   ]
  },
  {
   "cell_type": "code",
   "execution_count": 2,
   "id": "41b8f8a6",
   "metadata": {},
   "outputs": [],
   "source": [
    "#Conectando ao banco de dados\n",
    "conn = psycopg2.connect(\n",
    "    host = \"localhost\",\n",
    "    database = \"postgres\",\n",
    "    user = \"postgres\",\n",
    "    password = \"12345\"\n",
    ")"
   ]
  },
  {
   "cell_type": "code",
   "execution_count": 3,
   "id": "579a5b08",
   "metadata": {},
   "outputs": [],
   "source": [
    "# Criando um cursor para executar comandos SQL\n",
    "cursor = conn.cursor()"
   ]
  },
  {
   "cell_type": "code",
   "execution_count": 4,
   "id": "9661c246",
   "metadata": {},
   "outputs": [],
   "source": [
    "# Executando uma consulta SQL\n",
    "cursor.execute(\"SELECT * FROM tool_store.emprestimos\")"
   ]
  },
  {
   "cell_type": "code",
   "execution_count": 5,
   "id": "b130d25a",
   "metadata": {},
   "outputs": [],
   "source": [
    "# Criando a variável result para armazenar os resultados da consulta SQL com o método fetchall()\n",
    "result = cursor.fetchall()"
   ]
  },
  {
   "cell_type": "code",
   "execution_count": 7,
   "id": "79f948ee",
   "metadata": {},
   "outputs": [],
   "source": [
    "df = pd.DataFrame(result, columns=['id', 'id_pessoa', 'id_ferramenta', 'quantidade', 'data_emprestimo', 'data_devolucao'])\n"
   ]
  },
  {
   "cell_type": "code",
   "execution_count": 8,
   "id": "5924b9c0",
   "metadata": {},
   "outputs": [
    {
     "name": "stdout",
     "output_type": "stream",
     "text": [
      "   id  id_pessoa  id_ferramenta quantidade data_emprestimo data_devolucao\n",
      "0   4         34             22          4      2025-06-17           None\n",
      "1   5         23             10          2      2025-06-16           None\n",
      "2   6         51             30          1      2025-06-15           None\n",
      "3   7         42              8          5      2025-06-14           None\n",
      "4   8         18             19          3      2025-06-19           None\n"
     ]
    }
   ],
   "source": [
    "print(df.head())"
   ]
  },
  {
   "cell_type": "code",
   "execution_count": 9,
   "id": "2bdb3913",
   "metadata": {},
   "outputs": [
    {
     "name": "stdout",
     "output_type": "stream",
     "text": [
      "    id  id_pessoa  id_ferramenta quantidade data_emprestimo data_devolucao\n",
      "15  19         39             11          2      2025-06-19           None\n",
      "16  20         21             14          4      2025-06-18           None\n",
      "17   1          1              3          5      2025-06-19     2025-06-20\n",
      "18   2         12              5          3      2025-06-19     2025-06-25\n",
      "19   3          7             15          1      2025-06-18     2025-06-30\n"
     ]
    }
   ],
   "source": [
    "print(df.tail())"
   ]
  },
  {
   "cell_type": "code",
   "execution_count": 10,
   "id": "29d18b1c",
   "metadata": {},
   "outputs": [
    {
     "name": "stdout",
     "output_type": "stream",
     "text": [
      "    id  id_pessoa  id_ferramenta quantidade data_emprestimo data_devolucao\n",
      "0    4         34             22          4      2025-06-17           None\n",
      "1    5         23             10          2      2025-06-16           None\n",
      "2    6         51             30          1      2025-06-15           None\n",
      "3    7         42              8          5      2025-06-14           None\n",
      "4    8         18             19          3      2025-06-19           None\n",
      "5    9         65              3          2      2025-06-17           None\n",
      "6   10         29             12          4      2025-06-16           None\n",
      "7   11         10             25          1      2025-06-15           None\n",
      "8   12         37              7          5      2025-06-14           None\n",
      "9   13         22              9          3      2025-06-19           None\n",
      "10  14          8             18          2      2025-06-18           None\n",
      "11  15         14             24          4      2025-06-17           None\n",
      "12  16         45             13          1      2025-06-16           None\n",
      "13  17         28              4          5      2025-06-15           None\n",
      "14  18         55             16          3      2025-06-14           None\n",
      "15  19         39             11          2      2025-06-19           None\n",
      "16  20         21             14          4      2025-06-18           None\n",
      "17   1          1              3          5      2025-06-19     2025-06-20\n",
      "18   2         12              5          3      2025-06-19     2025-06-25\n",
      "19   3          7             15          1      2025-06-18     2025-06-30\n"
     ]
    }
   ],
   "source": [
    "print(df)"
   ]
  },
  {
   "cell_type": "code",
   "execution_count": 11,
   "id": "fc1cef7d",
   "metadata": {},
   "outputs": [
    {
     "name": "stdout",
     "output_type": "stream",
     "text": [
      "             id  id_pessoa  id_ferramenta\n",
      "count  20.00000  20.000000      20.000000\n",
      "mean   10.50000  28.050000      13.400000\n",
      "std     5.91608  17.632133       7.755473\n",
      "min     1.00000   1.000000       3.000000\n",
      "25%     5.75000  13.500000       7.750000\n",
      "50%    10.50000  25.500000      12.500000\n",
      "75%    15.25000  39.750000      18.250000\n",
      "max    20.00000  65.000000      30.000000\n"
     ]
    }
   ],
   "source": [
    "print(df.describe())"
   ]
  },
  {
   "cell_type": "code",
   "execution_count": 162,
   "id": "30814e34",
   "metadata": {},
   "outputs": [
    {
     "name": "stdout",
     "output_type": "stream",
     "text": [
      "Nome atualizado para Marina Martins para a matrícula 32600936\n",
      "Nome atualizado para Lavínia da Cunha para a matrícula 32471271\n",
      "Nome atualizado para Sr. Joaquim Pinto para a matrícula 32024214\n",
      "Nome atualizado para João Vitor Santos para a matrícula 32320007\n",
      "Nome atualizado para Bruno Caldeira para a matrícula 32570568\n",
      "Nome atualizado para Clarice Mendes para a matrícula 32676424\n",
      "Nome atualizado para Carolina Duarte para a matrícula 32169746\n",
      "Nome atualizado para Isabella da Cunha para a matrícula 32241756\n",
      "Nome atualizado para Alexandre Gonçalves para a matrícula 32471720\n",
      "Nome atualizado para Pedro Freitas para a matrícula 32872314\n",
      "Nome atualizado para Sr. Luiz Henrique Fernandes para a matrícula 32830185\n",
      "Nome atualizado para Francisco Nunes para a matrícula 32042993\n",
      "Nome atualizado para Levi da Cruz para a matrícula 32493861\n",
      "Nome atualizado para Marcos Vinicius Farias para a matrícula 32798616\n",
      "Nome atualizado para Srta. Maria Alice Silveira para a matrícula 32486068\n",
      "Nome atualizado para Sra. Sophie Nogueira para a matrícula 32042815\n",
      "Nome atualizado para Lorenzo Cunha para a matrícula 32609530\n",
      "Nome atualizado para Zabuza para a matrícula 32002222\n",
      "Nome atualizado para kaka para a matrícula 326666666\n",
      "Nome atualizado para Isaac da Mata para a matrícula 32233686\n",
      "Nome atualizado para Nathan Martins para a matrícula 32636760\n",
      "Nome atualizado para Olivia Santos para a matrícula 32112983\n",
      "Nome atualizado para Arlong para a matrícula 32000854\n",
      "Nome atualizado para cachorro para a matrícula 1111111111111\n",
      "Nome atualizado para Manuela Caldeira para a matrícula 32752330\n",
      "Nome atualizado para Laís Cardoso para a matrícula 32536880\n",
      "Nome atualizado para Clarice Ribeiro para a matrícula 32662424\n",
      "Nome atualizado para Alexia Pinto para a matrícula 32575442\n",
      "Nome atualizado para Otávio Cardoso para a matrícula 32856514\n",
      "Nome atualizado para Pedro Lucas Alves para a matrícula 32628741\n",
      "Nome atualizado para Leandro Melo para a matrícula 32627913\n",
      "Nome atualizado para Vitória da Mota para a matrícula 32274878\n",
      "Nome atualizado para Lavínia Araújo para a matrícula 32356559\n",
      "Nome atualizado para Sr. Luiz Felipe Ribeiro para a matrícula 32015246\n",
      "Nome atualizado para Luiz Felipe Cardoso para a matrícula 32540590\n",
      "Nome atualizado para Augusto da Conceição para a matrícula 32268136\n",
      "Nome atualizado para Esther Nascimento para a matrícula 32031981\n",
      "Nome atualizado para Marcos Vinicius Lopes para a matrícula 32226229\n",
      "Nome atualizado para Dr. Matheus Fernandes para a matrícula 32121393\n",
      "Nome atualizado para Dr. Vitor Hugo Monteiro para a matrícula 32186626\n",
      "Nome atualizado para Natália da Conceição para a matrícula 32432834\n",
      "Nome atualizado para Renan das Neves para a matrícula 32522346\n",
      "Nome atualizado para João Gabriel Peixoto para a matrícula 32496962\n",
      "Nome atualizado para Sra. Larissa Fernandes para a matrícula 32889715\n",
      "Nome atualizado para Luiz Fernando Peixoto para a matrícula 32411964\n",
      "Nome atualizado para Maitê Moura para a matrícula 32288527\n",
      "Nome atualizado para Pedro Alves para a matrícula 32390062\n",
      "Nome atualizado para Emilly Gonçalves para a matrícula 32762642\n",
      "Nome atualizado para João Felipe Moraes para a matrícula 32576142\n",
      "Nome atualizado para Júlia Ribeiro para a matrícula 32847405\n",
      "Nome atualizado para Letícia Duarte para a matrícula 32666181\n",
      "Nome atualizado para Maria Costa para a matrícula 32615706\n",
      "Nome atualizado para Vitor Gabriel Porto para a matrícula 32586175\n",
      "Nome atualizado para Ana Julia da Costa para a matrícula 32064506\n",
      "Nome atualizado para Marcelo da Mata para a matrícula 32627131\n",
      "Nome atualizado para João Gabriel Teixeira para a matrícula 32994061\n",
      "Nome atualizado para João Miguel Ribeiro para a matrícula 32154917\n",
      "Nome atualizado para Breno Melo para a matrícula 32607887\n",
      "Nome atualizado para Leonardo Costela para a matrícula 32156374\n",
      "Nome atualizado para Sarah Cardoso para a matrícula 32768435\n",
      "Nome atualizado para Marcela da Conceição para a matrícula 32509370\n",
      "Nome atualizado para Diego Melo para a matrícula 32877111\n",
      "Nome atualizado para Kamilly Rodrigues para a matrícula 32615862\n",
      "Nome atualizado para Natália Viana para a matrícula 32457955\n",
      "Nome atualizado para Sr. Erick da Mota para a matrícula 32115006\n",
      "Nome atualizado para Pietro Nogueira para a matrícula 32637163\n",
      "Nome atualizado para Raul Campos para a matrícula 32374827\n",
      "Nome atualizado para Caroline Barros para a matrícula 32318359\n",
      "Nome atualizado para Heloísa Costa para a matrícula 32277009\n",
      "Nome atualizado para Lucas Fogaça para a matrícula 32584511\n",
      "Nome atualizado para Vinicius Pires para a matrícula 32545100\n",
      "Nome atualizado para João Felipe da Cunha para a matrícula 32801175\n",
      "Nome atualizado para Mariane Alves para a matrícula 32120987\n",
      "Nome atualizado para Carolina Martins para a matrícula 32549109\n",
      "Nome atualizado para Guilherme Barros para a matrícula 32052170\n",
      "Nome atualizado para Leandro Pinto para a matrícula 32262500\n",
      "Nome atualizado para Cauê Castro para a matrícula 32917344\n",
      "Nome atualizado para Ian da Paz para a matrícula 32285777\n",
      "Nome atualizado para Luigi Viana para a matrícula 32897320\n",
      "Nome atualizado para Heitor Aragão para a matrícula 32059258\n",
      "Nome atualizado para Ana Júlia Ribeiro para a matrícula 32810357\n",
      "Nome atualizado para Maria Vitória Ramos para a matrícula 32253895\n",
      "Nome atualizado para Carolina Vieira para a matrícula 32350787\n",
      "Nome atualizado para Dr. Yuri Mendes para a matrícula 32234895\n",
      "Nome atualizado para Yago Duarte para a matrícula 32962617\n",
      "Nome atualizado para Sra. Mariane Almeida para a matrícula 32348205\n",
      "Nome atualizado para Calebe Ferreira para a matrícula 32483630\n",
      "Nome atualizado para Sabrina Rezende para a matrícula 32829352\n",
      "Nome atualizado para Daniel Cunha para a matrícula 32289106\n",
      "Nome atualizado para Sr. Gustavo Duarte para a matrícula 32424131\n",
      "Nome atualizado para Sra. Ana Sophia Ramos para a matrícula 32957778\n",
      "Nome atualizado para Luna Porto para a matrícula 32938158\n",
      "Nome atualizado para Mariane Barros para a matrícula 32265251\n",
      "Nome atualizado para Sophia das Neves para a matrícula 32962286\n",
      "Nome atualizado para Fernando Novaes para a matrícula 32890521\n",
      "Nome atualizado para Zoro para a matrícula 0101\n",
      "Nome atualizado para lucas para a matrícula 325555555\n",
      "Nome atualizado para natalia para a matrícula 32555555\n",
      "Nome atualizado para Barba Negra para a matrícula 32000999\n",
      "Nome atualizado para Barba Negra para a matrícula 32000999\n",
      "Nome atualizado para Chico para a matrícula 999999999\n",
      "Nome atualizado para vava para a matrícula 000000000\n",
      "Nome atualizado para Sr. Theo Cardoso para a matrícula 32923643\n",
      "Nome atualizado para Dra. Sabrina Vieira para a matrícula 32127885\n",
      "Nome atualizado para Isadora Freitas para a matrícula 32087151\n",
      "Nome atualizado para Bianca Farias para a matrícula 32424495\n",
      "Nome atualizado para Isadora Almeida para a matrícula 32649305\n",
      "Nome atualizado para Ana Novaes para a matrícula 32331180\n",
      "Nome atualizado para Ana Novaes para a matrícula 32331180\n"
     ]
    }
   ],
   "source": [
    "# Percorrer o DataFrame\n",
    "for matricula, row in df.iterrows():\n",
    "    matricula = row['matricula']\n",
    "    nome_pessoa = row['nome']\n",
    "\n",
    "    # Verifica se o id_pessoa já existe no banco de dados\n",
    "    cursor.execute('SELECT matricula FROM tool_store.pessoa WHERE matricula = %s', (matricula,))\n",
    "    result = cursor.fetchone()\n",
    "\n",
    "    if result:\n",
    "        # Realiza a atualização do nome da pessoa\n",
    "        cursor.execute('UPDATE tool_store.pessoa SET nome = %s WHERE matricula = %s', (nome_pessoa, matricula))\n",
    "        conn.commit()\n",
    "        print(f\"Nome atualizado para {nome_pessoa} para a matrícula {matricula}\")\n",
    "    \n",
    "    else:\n",
    "            # Insere um novo registro se a matrícula não existir\n",
    "            cursor.execute('INSERT INTO tool_store.pessoa (nome, matricula) VALUES (%s, %s)', (nome_pessoa, matricula))\n",
    "            conn.commit()\n",
    "            print(f\"Registro inserido: {nome_pessoa} com matrícula {matricula}\")"
   ]
  }
 ],
 "metadata": {
  "kernelspec": {
   "display_name": "Python 3",
   "language": "python",
   "name": "python3"
  },
  "language_info": {
   "codemirror_mode": {
    "name": "ipython",
    "version": 3
   },
   "file_extension": ".py",
   "mimetype": "text/x-python",
   "name": "python",
   "nbconvert_exporter": "python",
   "pygments_lexer": "ipython3",
   "version": "3.11.13"
  }
 },
 "nbformat": 4,
 "nbformat_minor": 5
}
